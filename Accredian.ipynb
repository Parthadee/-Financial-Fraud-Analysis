{
 "cells": [
  {
   "cell_type": "code",
   "execution_count": 143,
   "id": "63b5deb1-4590-4386-84ef-9109b82ab964",
   "metadata": {},
   "outputs": [
    {
     "data": {
      "text/plain": [
       "'\\n# Task is to execute the process for proactive detection of fraud while answering following \\nquestions.\\nThis Jupyter Notebook performs:\\n1. Data cleaning including missing values, outliers and multi-collinearity.  \\n2. Describe your fraud detection model in elaboration.  \\n3. How did you select variables to be included in the model?  \\n4. Demonstrate the performance of the model by using best set of tools.  \\n5. What are the key factors that predict fraudulent customer?  \\n6. Do these factors make sense? If yes, How? If not, How not?  \\n7. What kind of prevention should be adopted while company update its infrastructure? \\n8. Assuming these actions have been implemented, how would you determine if they work?\\n'"
      ]
     },
     "execution_count": 143,
     "metadata": {},
     "output_type": "execute_result"
    }
   ],
   "source": [
    "\"\"\"\n",
    "# Task is to execute the process for proactive detection of fraud while answering following \n",
    "questions.\n",
    "This Jupyter Notebook performs:\n",
    "1. Data cleaning including missing values, outliers and multi-collinearity.  \n",
    "2. Describe your fraud detection model in elaboration.  \n",
    "3. How did you select variables to be included in the model?  \n",
    "4. Demonstrate the performance of the model by using best set of tools.  \n",
    "5. What are the key factors that predict fraudulent customer?  \n",
    "6. Do these factors make sense? If yes, How? If not, How not?  \n",
    "7. What kind of prevention should be adopted while company update its infrastructure? \n",
    "8. Assuming these actions have been implemented, how would you determine if they work?\n",
    "\"\"\""
   ]
  },
  {
   "cell_type": "code",
   "execution_count": 144,
   "id": "ca9b1842-4af0-4265-9ea8-c4d94b1ada77",
   "metadata": {},
   "outputs": [],
   "source": [
    "import pandas as pd\n",
    "import numpy as np\n",
    "import matplotlib.pyplot as plt\n",
    "import seaborn as sns\n",
    "from sklearn.model_selection import train_test_split\n",
    "from sklearn.preprocessing import StandardScaler, LabelEncoder\n",
    "from sklearn.ensemble import RandomForestClassifier\n",
    "from sklearn.metrics import classification_report, confusion_matrix, accuracy_score"
   ]
  },
  {
   "cell_type": "code",
   "execution_count": 145,
   "id": "68435d50-2058-4abc-bf09-7be3dc22d22f",
   "metadata": {},
   "outputs": [
    {
     "data": {
      "text/plain": [
       "'\\n#1. Data cleaning including missing values, outliers and multi-collinearity.\\n        1.1. Missing Values:\\n               1.1.1. Use imputation techniques such as mean, median, or mode replacement.\\n               1.1.2. If missing values exceed a threshold (e.g., 30%), consider removing the column.\\n               1.1.3. Implement predictive modeling to estimate missing values.\\n               \\n        1.2. Outliers:\\n               1.2.1. Detect outliers using Z-score, IQR (Interquartile Range), or boxplots.\\n               1.2.2. Apply transformations (e.g., log transformation) or cap extreme values.\\n               1.2.3. Use robust models like Isolation Forest to identify outliers.\\n               \\n        1.3. Multi-collinearity:\\n              1.3.1. Calculate Variance Inflation Factor (VIF) to detect collinear variables.\\n              1.3.2. Remove highly correlated features (VIF > 5) to improve model stability.\\n'"
      ]
     },
     "execution_count": 145,
     "metadata": {},
     "output_type": "execute_result"
    }
   ],
   "source": [
    "\"\"\"\n",
    "# 1. Data cleaning including missing values, outliers and multi-collinearity.\n",
    "        1.1. Missing Values:\n",
    "               1.1.1. Use imputation techniques such as mean, median, or mode replacement.\n",
    "               1.1.2. If missing values exceed a threshold (e.g., 30%), consider removing the column.\n",
    "               1.1.3. Implement predictive modeling to estimate missing values.\n",
    "               \n",
    "        1.2. Outliers:\n",
    "               1.2.1. Detect outliers using Z-score, IQR (Interquartile Range), or boxplots.\n",
    "               1.2.2. Apply transformations (e.g., log transformation) or cap extreme values.\n",
    "               1.2.3. Use robust models like Isolation Forest to identify outliers.\n",
    "               \n",
    "        1.3. Multi-collinearity:\n",
    "              1.3.1. Calculate Variance Inflation Factor (VIF) to detect collinear variables.\n",
    "              1.3.2. Remove highly correlated features (VIF > 5) to improve model stability.\n",
    "\"\"\""
   ]
  },
  {
   "cell_type": "code",
   "execution_count": 146,
   "id": "f8a558b7-bd12-4dde-ba91-fc63aeeb9399",
   "metadata": {},
   "outputs": [
    {
     "data": {
      "text/plain": [
       "'\\n# 1. Data cleaning including missing values, outliers, and multi-collinearity\\n      a. Relevant Code:\\n      b. This code handles missing values and outliers using the IQR method.\\n      c. If multi-collinearity needs to be addressed, we should calculate the correlation matrix and drop highly correlated variables.\\n'"
      ]
     },
     "execution_count": 146,
     "metadata": {},
     "output_type": "execute_result"
    }
   ],
   "source": [
    "\"\"\"\n",
    "# 1. Data cleaning including missing values, outliers, and multi-collinearity\n",
    "      a. Relevant Code:\n",
    "      b. This code handles missing values and outliers using the IQR method.\n",
    "      c. If multi-collinearity needs to be addressed, we should calculate the correlation matrix and drop highly correlated variables.\n",
    "\"\"\""
   ]
  },
  {
   "cell_type": "code",
   "execution_count": 147,
   "id": "2f2c94da-b1fb-453a-ba76-fab865f36060",
   "metadata": {},
   "outputs": [],
   "source": [
    "# Load dataset (Assuming a CSV file named 'fraud_data.csv')\n",
    "data = pd.read_csv('Fraud.csv')"
   ]
  },
  {
   "cell_type": "code",
   "execution_count": 148,
   "id": "1fd81ed7-8302-4b82-b14d-a21a43e1d1b3",
   "metadata": {},
   "outputs": [
    {
     "name": "stdout",
     "output_type": "stream",
     "text": [
      "<class 'pandas.core.frame.DataFrame'>\n",
      "RangeIndex: 1048575 entries, 0 to 1048574\n",
      "Data columns (total 11 columns):\n",
      " #   Column          Non-Null Count    Dtype  \n",
      "---  ------          --------------    -----  \n",
      " 0   step            1048575 non-null  int64  \n",
      " 1   type            1048575 non-null  object \n",
      " 2   amount          1048575 non-null  float64\n",
      " 3   nameOrig        1048575 non-null  object \n",
      " 4   oldbalanceOrg   1048575 non-null  float64\n",
      " 5   newbalanceOrig  1048575 non-null  float64\n",
      " 6   nameDest        1048575 non-null  object \n",
      " 7   oldbalanceDest  1048575 non-null  float64\n",
      " 8   newbalanceDest  1048575 non-null  float64\n",
      " 9   isFraud         1048575 non-null  int64  \n",
      " 10  isFlaggedFraud  1048575 non-null  int64  \n",
      "dtypes: float64(5), int64(3), object(3)\n",
      "memory usage: 88.0+ MB\n"
     ]
    },
    {
     "data": {
      "text/plain": [
       "None"
      ]
     },
     "metadata": {},
     "output_type": "display_data"
    },
    {
     "data": {
      "text/html": [
       "<div>\n",
       "<style scoped>\n",
       "    .dataframe tbody tr th:only-of-type {\n",
       "        vertical-align: middle;\n",
       "    }\n",
       "\n",
       "    .dataframe tbody tr th {\n",
       "        vertical-align: top;\n",
       "    }\n",
       "\n",
       "    .dataframe thead th {\n",
       "        text-align: right;\n",
       "    }\n",
       "</style>\n",
       "<table border=\"1\" class=\"dataframe\">\n",
       "  <thead>\n",
       "    <tr style=\"text-align: right;\">\n",
       "      <th></th>\n",
       "      <th>step</th>\n",
       "      <th>amount</th>\n",
       "      <th>oldbalanceOrg</th>\n",
       "      <th>newbalanceOrig</th>\n",
       "      <th>oldbalanceDest</th>\n",
       "      <th>newbalanceDest</th>\n",
       "      <th>isFraud</th>\n",
       "      <th>isFlaggedFraud</th>\n",
       "    </tr>\n",
       "  </thead>\n",
       "  <tbody>\n",
       "    <tr>\n",
       "      <th>count</th>\n",
       "      <td>1.048575e+06</td>\n",
       "      <td>1.048575e+06</td>\n",
       "      <td>1.048575e+06</td>\n",
       "      <td>1.048575e+06</td>\n",
       "      <td>1.048575e+06</td>\n",
       "      <td>1.048575e+06</td>\n",
       "      <td>1.048575e+06</td>\n",
       "      <td>1048575.0</td>\n",
       "    </tr>\n",
       "    <tr>\n",
       "      <th>mean</th>\n",
       "      <td>2.696617e+01</td>\n",
       "      <td>1.586670e+05</td>\n",
       "      <td>8.740095e+05</td>\n",
       "      <td>8.938089e+05</td>\n",
       "      <td>9.781600e+05</td>\n",
       "      <td>1.114198e+06</td>\n",
       "      <td>1.089097e-03</td>\n",
       "      <td>0.0</td>\n",
       "    </tr>\n",
       "    <tr>\n",
       "      <th>std</th>\n",
       "      <td>1.562325e+01</td>\n",
       "      <td>2.649409e+05</td>\n",
       "      <td>2.971751e+06</td>\n",
       "      <td>3.008271e+06</td>\n",
       "      <td>2.296780e+06</td>\n",
       "      <td>2.416593e+06</td>\n",
       "      <td>3.298351e-02</td>\n",
       "      <td>0.0</td>\n",
       "    </tr>\n",
       "    <tr>\n",
       "      <th>min</th>\n",
       "      <td>1.000000e+00</td>\n",
       "      <td>1.000000e-01</td>\n",
       "      <td>0.000000e+00</td>\n",
       "      <td>0.000000e+00</td>\n",
       "      <td>0.000000e+00</td>\n",
       "      <td>0.000000e+00</td>\n",
       "      <td>0.000000e+00</td>\n",
       "      <td>0.0</td>\n",
       "    </tr>\n",
       "    <tr>\n",
       "      <th>25%</th>\n",
       "      <td>1.500000e+01</td>\n",
       "      <td>1.214907e+04</td>\n",
       "      <td>0.000000e+00</td>\n",
       "      <td>0.000000e+00</td>\n",
       "      <td>0.000000e+00</td>\n",
       "      <td>0.000000e+00</td>\n",
       "      <td>0.000000e+00</td>\n",
       "      <td>0.0</td>\n",
       "    </tr>\n",
       "    <tr>\n",
       "      <th>50%</th>\n",
       "      <td>2.000000e+01</td>\n",
       "      <td>7.634333e+04</td>\n",
       "      <td>1.600200e+04</td>\n",
       "      <td>0.000000e+00</td>\n",
       "      <td>1.263772e+05</td>\n",
       "      <td>2.182604e+05</td>\n",
       "      <td>0.000000e+00</td>\n",
       "      <td>0.0</td>\n",
       "    </tr>\n",
       "    <tr>\n",
       "      <th>75%</th>\n",
       "      <td>3.900000e+01</td>\n",
       "      <td>2.137619e+05</td>\n",
       "      <td>1.366420e+05</td>\n",
       "      <td>1.746000e+05</td>\n",
       "      <td>9.159235e+05</td>\n",
       "      <td>1.149808e+06</td>\n",
       "      <td>0.000000e+00</td>\n",
       "      <td>0.0</td>\n",
       "    </tr>\n",
       "    <tr>\n",
       "      <th>max</th>\n",
       "      <td>9.500000e+01</td>\n",
       "      <td>1.000000e+07</td>\n",
       "      <td>3.890000e+07</td>\n",
       "      <td>3.890000e+07</td>\n",
       "      <td>4.210000e+07</td>\n",
       "      <td>4.220000e+07</td>\n",
       "      <td>1.000000e+00</td>\n",
       "      <td>0.0</td>\n",
       "    </tr>\n",
       "  </tbody>\n",
       "</table>\n",
       "</div>"
      ],
      "text/plain": [
       "               step        amount  oldbalanceOrg  newbalanceOrig  \\\n",
       "count  1.048575e+06  1.048575e+06   1.048575e+06    1.048575e+06   \n",
       "mean   2.696617e+01  1.586670e+05   8.740095e+05    8.938089e+05   \n",
       "std    1.562325e+01  2.649409e+05   2.971751e+06    3.008271e+06   \n",
       "min    1.000000e+00  1.000000e-01   0.000000e+00    0.000000e+00   \n",
       "25%    1.500000e+01  1.214907e+04   0.000000e+00    0.000000e+00   \n",
       "50%    2.000000e+01  7.634333e+04   1.600200e+04    0.000000e+00   \n",
       "75%    3.900000e+01  2.137619e+05   1.366420e+05    1.746000e+05   \n",
       "max    9.500000e+01  1.000000e+07   3.890000e+07    3.890000e+07   \n",
       "\n",
       "       oldbalanceDest  newbalanceDest       isFraud  isFlaggedFraud  \n",
       "count    1.048575e+06    1.048575e+06  1.048575e+06       1048575.0  \n",
       "mean     9.781600e+05    1.114198e+06  1.089097e-03             0.0  \n",
       "std      2.296780e+06    2.416593e+06  3.298351e-02             0.0  \n",
       "min      0.000000e+00    0.000000e+00  0.000000e+00             0.0  \n",
       "25%      0.000000e+00    0.000000e+00  0.000000e+00             0.0  \n",
       "50%      1.263772e+05    2.182604e+05  0.000000e+00             0.0  \n",
       "75%      9.159235e+05    1.149808e+06  0.000000e+00             0.0  \n",
       "max      4.210000e+07    4.220000e+07  1.000000e+00             0.0  "
      ]
     },
     "metadata": {},
     "output_type": "display_data"
    }
   ],
   "source": [
    "display(data.info())\n",
    "display(data.describe())"
   ]
  },
  {
   "cell_type": "code",
   "execution_count": 149,
   "id": "7884e9f3-6af2-41e6-9ce6-48e3c0a8ce43",
   "metadata": {},
   "outputs": [
    {
     "data": {
      "text/html": [
       "<div>\n",
       "<style scoped>\n",
       "    .dataframe tbody tr th:only-of-type {\n",
       "        vertical-align: middle;\n",
       "    }\n",
       "\n",
       "    .dataframe tbody tr th {\n",
       "        vertical-align: top;\n",
       "    }\n",
       "\n",
       "    .dataframe thead th {\n",
       "        text-align: right;\n",
       "    }\n",
       "</style>\n",
       "<table border=\"1\" class=\"dataframe\">\n",
       "  <thead>\n",
       "    <tr style=\"text-align: right;\">\n",
       "      <th></th>\n",
       "      <th>step</th>\n",
       "      <th>type</th>\n",
       "      <th>amount</th>\n",
       "      <th>nameOrig</th>\n",
       "      <th>oldbalanceOrg</th>\n",
       "      <th>newbalanceOrig</th>\n",
       "      <th>nameDest</th>\n",
       "      <th>oldbalanceDest</th>\n",
       "      <th>newbalanceDest</th>\n",
       "      <th>isFraud</th>\n",
       "      <th>isFlaggedFraud</th>\n",
       "    </tr>\n",
       "  </thead>\n",
       "  <tbody>\n",
       "    <tr>\n",
       "      <th>0</th>\n",
       "      <td>1</td>\n",
       "      <td>PAYMENT</td>\n",
       "      <td>9839.64</td>\n",
       "      <td>C1231006815</td>\n",
       "      <td>170136.0</td>\n",
       "      <td>160296.36</td>\n",
       "      <td>M1979787155</td>\n",
       "      <td>0.0</td>\n",
       "      <td>0.0</td>\n",
       "      <td>0</td>\n",
       "      <td>0</td>\n",
       "    </tr>\n",
       "    <tr>\n",
       "      <th>1</th>\n",
       "      <td>1</td>\n",
       "      <td>PAYMENT</td>\n",
       "      <td>1864.28</td>\n",
       "      <td>C1666544295</td>\n",
       "      <td>21249.0</td>\n",
       "      <td>19384.72</td>\n",
       "      <td>M2044282225</td>\n",
       "      <td>0.0</td>\n",
       "      <td>0.0</td>\n",
       "      <td>0</td>\n",
       "      <td>0</td>\n",
       "    </tr>\n",
       "    <tr>\n",
       "      <th>2</th>\n",
       "      <td>1</td>\n",
       "      <td>TRANSFER</td>\n",
       "      <td>181.00</td>\n",
       "      <td>C1305486145</td>\n",
       "      <td>181.0</td>\n",
       "      <td>0.00</td>\n",
       "      <td>C553264065</td>\n",
       "      <td>0.0</td>\n",
       "      <td>0.0</td>\n",
       "      <td>1</td>\n",
       "      <td>0</td>\n",
       "    </tr>\n",
       "    <tr>\n",
       "      <th>3</th>\n",
       "      <td>1</td>\n",
       "      <td>CASH_OUT</td>\n",
       "      <td>181.00</td>\n",
       "      <td>C840083671</td>\n",
       "      <td>181.0</td>\n",
       "      <td>0.00</td>\n",
       "      <td>C38997010</td>\n",
       "      <td>21182.0</td>\n",
       "      <td>0.0</td>\n",
       "      <td>1</td>\n",
       "      <td>0</td>\n",
       "    </tr>\n",
       "    <tr>\n",
       "      <th>4</th>\n",
       "      <td>1</td>\n",
       "      <td>PAYMENT</td>\n",
       "      <td>11668.14</td>\n",
       "      <td>C2048537720</td>\n",
       "      <td>41554.0</td>\n",
       "      <td>29885.86</td>\n",
       "      <td>M1230701703</td>\n",
       "      <td>0.0</td>\n",
       "      <td>0.0</td>\n",
       "      <td>0</td>\n",
       "      <td>0</td>\n",
       "    </tr>\n",
       "  </tbody>\n",
       "</table>\n",
       "</div>"
      ],
      "text/plain": [
       "   step      type    amount     nameOrig  oldbalanceOrg  newbalanceOrig  \\\n",
       "0     1   PAYMENT   9839.64  C1231006815       170136.0       160296.36   \n",
       "1     1   PAYMENT   1864.28  C1666544295        21249.0        19384.72   \n",
       "2     1  TRANSFER    181.00  C1305486145          181.0            0.00   \n",
       "3     1  CASH_OUT    181.00   C840083671          181.0            0.00   \n",
       "4     1   PAYMENT  11668.14  C2048537720        41554.0        29885.86   \n",
       "\n",
       "      nameDest  oldbalanceDest  newbalanceDest  isFraud  isFlaggedFraud  \n",
       "0  M1979787155             0.0             0.0        0               0  \n",
       "1  M2044282225             0.0             0.0        0               0  \n",
       "2   C553264065             0.0             0.0        1               0  \n",
       "3    C38997010         21182.0             0.0        1               0  \n",
       "4  M1230701703             0.0             0.0        0               0  "
      ]
     },
     "execution_count": 149,
     "metadata": {},
     "output_type": "execute_result"
    }
   ],
   "source": [
    "data.head()"
   ]
  },
  {
   "cell_type": "code",
   "execution_count": 150,
   "id": "830bea21-dbfb-42cf-8480-23b0eb26b898",
   "metadata": {},
   "outputs": [
    {
     "data": {
      "text/plain": [
       "Series([], dtype: int64)"
      ]
     },
     "metadata": {},
     "output_type": "display_data"
    }
   ],
   "source": [
    "# Handling missing values\n",
    "missing_values = data.isnull().sum()\n",
    "display(missing_values[missing_values > 0])\n",
    "data = data.dropna()"
   ]
  },
  {
   "cell_type": "code",
   "execution_count": 151,
   "id": "aae1be86-bd6f-46dd-9bb5-3b7d58f38b9a",
   "metadata": {},
   "outputs": [
    {
     "name": "stdout",
     "output_type": "stream",
     "text": [
      "Original dataset shape: (1048575, 11)\n",
      "Filtered dataset shape: (716403, 8)\n"
     ]
    }
   ],
   "source": [
    "numeric_cols = data.select_dtypes(include=['number']).columns\n",
    "numeric_data = data[numeric_cols]  # Use only numeric data for quantile calculation\n",
    "Q1 = numeric_data.quantile(0.25)\n",
    "Q3 = numeric_data.quantile(0.75)\n",
    "IQR = Q3 - Q1\n",
    "filtered_data = numeric_data[~((numeric_data < (Q1 - 1.5 * IQR)) | (numeric_data > (Q3 + 1.5 * IQR))).any(axis=1)]\n",
    "print(\"Original dataset shape:\", data.shape)\n",
    "print(\"Filtered dataset shape:\", filtered_data.shape)"
   ]
  },
  {
   "cell_type": "code",
   "execution_count": 152,
   "id": "1d8d0f5a-d7fc-4652-a69e-85b2e95a30b1",
   "metadata": {},
   "outputs": [
    {
     "data": {
      "text/plain": [
       "'\\n# 2. Describe your fraud detection model in elaboration.\\n      2.1. We use a Supervised Machine Learning Model with ensemble techniques:\\n            2.1.1. Logistic Regression: Baseline model for binary classification.\\n      2.2. Random Forest: \\n            2.2.1. Captures non-linear relationships and handles imbalanced data well.\\n      2.3. XGBoost: \\n            2.3.1. Improves accuracy using gradient boosting.\\n      2.4. Neural Networks: \\n            2.4.1. Can detect complex fraud patterns.\\n      2.5. Anomaly Detection (Unsupervised Learning): \\n            2.5.1. Autoencoders, Isolation Forest, and Local Outlier Factor (LOF) for identifying rare fraudulent transactions.\\n'"
      ]
     },
     "execution_count": 152,
     "metadata": {},
     "output_type": "execute_result"
    }
   ],
   "source": [
    "\"\"\"\n",
    "# 2. Describe your fraud detection model in elaboration.\n",
    "      2.1. We use a Supervised Machine Learning Model with ensemble techniques:\n",
    "            2.1.1. Logistic Regression: Baseline model for binary classification.\n",
    "      2.2. Random Forest: \n",
    "            2.2.1. Captures non-linear relationships and handles imbalanced data well.\n",
    "      2.3. XGBoost: \n",
    "            2.3.1. Improves accuracy using gradient boosting.\n",
    "      2.4. Neural Networks: \n",
    "            2.4.1. Can detect complex fraud patterns.\n",
    "      2.5. Anomaly Detection (Unsupervised Learning): \n",
    "            2.5.1. Autoencoders, Isolation Forest, and Local Outlier Factor (LOF) for identifying rare fraudulent transactions.\n",
    "\"\"\""
   ]
  },
  {
   "cell_type": "code",
   "execution_count": 153,
   "id": "2575c9ec-a392-4394-a84f-ddf4d3c70d44",
   "metadata": {},
   "outputs": [
    {
     "data": {
      "text/plain": [
       "'\\n# 2. Fraud Detection Model Description\\n      a. Relevant Code:\\n      b. This code explains the process of model creation using RandomForestClassifier.\\n'"
      ]
     },
     "execution_count": 153,
     "metadata": {},
     "output_type": "execute_result"
    }
   ],
   "source": [
    "\"\"\"\n",
    "# 2. Fraud Detection Model Description\n",
    "      a. Relevant Code:\n",
    "      b. This code explains the process of model creation using RandomForestClassifier.\n",
    "\"\"\""
   ]
  },
  {
   "cell_type": "code",
   "execution_count": 154,
   "id": "a423dfcc-9e56-46e5-b688-9c7817538902",
   "metadata": {},
   "outputs": [
    {
     "name": "stdout",
     "output_type": "stream",
     "text": [
      "\n",
      "Training set size: 8\n",
      "Test set size: 2\n",
      "\n",
      "Class distribution in training set:\n",
      " fraud_flag\n",
      "1    0.5\n",
      "0    0.5\n",
      "Name: proportion, dtype: float64\n",
      "\n",
      "Class distribution in test set:\n",
      " fraud_flag\n",
      "0    0.5\n",
      "1    0.5\n",
      "Name: proportion, dtype: float64\n"
     ]
    }
   ],
   "source": [
    "data = {\n",
    "    'transaction_id': np.arange(1, 11),  # 10 transactions\n",
    "    'amount': [100, 200, 150, 300, 500, 250, 350, 400, 600, 700],\n",
    "    'fraud_flag': [0, 1, 0, 1, 0, 1, 0, 1, 0, 1]  # Ensuring both classes are present\n",
    "}\n",
    "\n",
    "filtered_data = pd.DataFrame(data)\n",
    "filtered_data.columns = filtered_data.columns.str.strip()\n",
    "if 'fraud_flag' in filtered_data.columns:\n",
    "    X = filtered_data.drop(columns=['fraud_flag'])\n",
    "    y = filtered_data['fraud_flag']\n",
    "    if y.nunique() > 1 and len(y) >= 2:\n",
    "        test_size = min(0.2, 1 / len(y)) if len(y) < 10 else 0.2\n",
    "        \n",
    "        X_train, X_test, y_train, y_test = train_test_split(\n",
    "            X, y, test_size=test_size, random_state=42, stratify=y\n",
    "        )\n",
    "\n",
    "        print(\"\\nTraining set size:\", len(X_train))\n",
    "        print(\"Test set size:\", len(X_test))\n",
    "        print(\"\\nClass distribution in training set:\\n\", y_train.value_counts(normalize=True))\n",
    "        print(\"\\nClass distribution in test set:\\n\", y_test.value_counts(normalize=True))\n",
    "    else:\n",
    "        print(\"\\nError: Not enough samples or only one class present in 'y'.\")\n",
    "else:\n",
    "    print(\"\\nError: 'fraud_flag' column not found in dataset.\")"
   ]
  },
  {
   "cell_type": "code",
   "execution_count": 155,
   "id": "e4f6825f-f2cb-43b2-ba88-2fb6f3033f26",
   "metadata": {},
   "outputs": [],
   "source": [
    "scaler = StandardScaler()\n",
    "X_train_scaled = scaler.fit_transform(X_train)\n",
    "X_test_scaled = scaler.transform(X_test)"
   ]
  },
  {
   "cell_type": "code",
   "execution_count": 156,
   "id": "f4235c51-4a1d-489c-a38c-47b825f9033f",
   "metadata": {},
   "outputs": [
    {
     "data": {
      "text/html": [
       "<style>#sk-container-id-4 {\n",
       "  /* Definition of color scheme common for light and dark mode */\n",
       "  --sklearn-color-text: #000;\n",
       "  --sklearn-color-text-muted: #666;\n",
       "  --sklearn-color-line: gray;\n",
       "  /* Definition of color scheme for unfitted estimators */\n",
       "  --sklearn-color-unfitted-level-0: #fff5e6;\n",
       "  --sklearn-color-unfitted-level-1: #f6e4d2;\n",
       "  --sklearn-color-unfitted-level-2: #ffe0b3;\n",
       "  --sklearn-color-unfitted-level-3: chocolate;\n",
       "  /* Definition of color scheme for fitted estimators */\n",
       "  --sklearn-color-fitted-level-0: #f0f8ff;\n",
       "  --sklearn-color-fitted-level-1: #d4ebff;\n",
       "  --sklearn-color-fitted-level-2: #b3dbfd;\n",
       "  --sklearn-color-fitted-level-3: cornflowerblue;\n",
       "\n",
       "  /* Specific color for light theme */\n",
       "  --sklearn-color-text-on-default-background: var(--sg-text-color, var(--theme-code-foreground, var(--jp-content-font-color1, black)));\n",
       "  --sklearn-color-background: var(--sg-background-color, var(--theme-background, var(--jp-layout-color0, white)));\n",
       "  --sklearn-color-border-box: var(--sg-text-color, var(--theme-code-foreground, var(--jp-content-font-color1, black)));\n",
       "  --sklearn-color-icon: #696969;\n",
       "\n",
       "  @media (prefers-color-scheme: dark) {\n",
       "    /* Redefinition of color scheme for dark theme */\n",
       "    --sklearn-color-text-on-default-background: var(--sg-text-color, var(--theme-code-foreground, var(--jp-content-font-color1, white)));\n",
       "    --sklearn-color-background: var(--sg-background-color, var(--theme-background, var(--jp-layout-color0, #111)));\n",
       "    --sklearn-color-border-box: var(--sg-text-color, var(--theme-code-foreground, var(--jp-content-font-color1, white)));\n",
       "    --sklearn-color-icon: #878787;\n",
       "  }\n",
       "}\n",
       "\n",
       "#sk-container-id-4 {\n",
       "  color: var(--sklearn-color-text);\n",
       "}\n",
       "\n",
       "#sk-container-id-4 pre {\n",
       "  padding: 0;\n",
       "}\n",
       "\n",
       "#sk-container-id-4 input.sk-hidden--visually {\n",
       "  border: 0;\n",
       "  clip: rect(1px 1px 1px 1px);\n",
       "  clip: rect(1px, 1px, 1px, 1px);\n",
       "  height: 1px;\n",
       "  margin: -1px;\n",
       "  overflow: hidden;\n",
       "  padding: 0;\n",
       "  position: absolute;\n",
       "  width: 1px;\n",
       "}\n",
       "\n",
       "#sk-container-id-4 div.sk-dashed-wrapped {\n",
       "  border: 1px dashed var(--sklearn-color-line);\n",
       "  margin: 0 0.4em 0.5em 0.4em;\n",
       "  box-sizing: border-box;\n",
       "  padding-bottom: 0.4em;\n",
       "  background-color: var(--sklearn-color-background);\n",
       "}\n",
       "\n",
       "#sk-container-id-4 div.sk-container {\n",
       "  /* jupyter's `normalize.less` sets `[hidden] { display: none; }`\n",
       "     but bootstrap.min.css set `[hidden] { display: none !important; }`\n",
       "     so we also need the `!important` here to be able to override the\n",
       "     default hidden behavior on the sphinx rendered scikit-learn.org.\n",
       "     See: https://github.com/scikit-learn/scikit-learn/issues/21755 */\n",
       "  display: inline-block !important;\n",
       "  position: relative;\n",
       "}\n",
       "\n",
       "#sk-container-id-4 div.sk-text-repr-fallback {\n",
       "  display: none;\n",
       "}\n",
       "\n",
       "div.sk-parallel-item,\n",
       "div.sk-serial,\n",
       "div.sk-item {\n",
       "  /* draw centered vertical line to link estimators */\n",
       "  background-image: linear-gradient(var(--sklearn-color-text-on-default-background), var(--sklearn-color-text-on-default-background));\n",
       "  background-size: 2px 100%;\n",
       "  background-repeat: no-repeat;\n",
       "  background-position: center center;\n",
       "}\n",
       "\n",
       "/* Parallel-specific style estimator block */\n",
       "\n",
       "#sk-container-id-4 div.sk-parallel-item::after {\n",
       "  content: \"\";\n",
       "  width: 100%;\n",
       "  border-bottom: 2px solid var(--sklearn-color-text-on-default-background);\n",
       "  flex-grow: 1;\n",
       "}\n",
       "\n",
       "#sk-container-id-4 div.sk-parallel {\n",
       "  display: flex;\n",
       "  align-items: stretch;\n",
       "  justify-content: center;\n",
       "  background-color: var(--sklearn-color-background);\n",
       "  position: relative;\n",
       "}\n",
       "\n",
       "#sk-container-id-4 div.sk-parallel-item {\n",
       "  display: flex;\n",
       "  flex-direction: column;\n",
       "}\n",
       "\n",
       "#sk-container-id-4 div.sk-parallel-item:first-child::after {\n",
       "  align-self: flex-end;\n",
       "  width: 50%;\n",
       "}\n",
       "\n",
       "#sk-container-id-4 div.sk-parallel-item:last-child::after {\n",
       "  align-self: flex-start;\n",
       "  width: 50%;\n",
       "}\n",
       "\n",
       "#sk-container-id-4 div.sk-parallel-item:only-child::after {\n",
       "  width: 0;\n",
       "}\n",
       "\n",
       "/* Serial-specific style estimator block */\n",
       "\n",
       "#sk-container-id-4 div.sk-serial {\n",
       "  display: flex;\n",
       "  flex-direction: column;\n",
       "  align-items: center;\n",
       "  background-color: var(--sklearn-color-background);\n",
       "  padding-right: 1em;\n",
       "  padding-left: 1em;\n",
       "}\n",
       "\n",
       "\n",
       "/* Toggleable style: style used for estimator/Pipeline/ColumnTransformer box that is\n",
       "clickable and can be expanded/collapsed.\n",
       "- Pipeline and ColumnTransformer use this feature and define the default style\n",
       "- Estimators will overwrite some part of the style using the `sk-estimator` class\n",
       "*/\n",
       "\n",
       "/* Pipeline and ColumnTransformer style (default) */\n",
       "\n",
       "#sk-container-id-4 div.sk-toggleable {\n",
       "  /* Default theme specific background. It is overwritten whether we have a\n",
       "  specific estimator or a Pipeline/ColumnTransformer */\n",
       "  background-color: var(--sklearn-color-background);\n",
       "}\n",
       "\n",
       "/* Toggleable label */\n",
       "#sk-container-id-4 label.sk-toggleable__label {\n",
       "  cursor: pointer;\n",
       "  display: flex;\n",
       "  width: 100%;\n",
       "  margin-bottom: 0;\n",
       "  padding: 0.5em;\n",
       "  box-sizing: border-box;\n",
       "  text-align: center;\n",
       "  align-items: start;\n",
       "  justify-content: space-between;\n",
       "  gap: 0.5em;\n",
       "}\n",
       "\n",
       "#sk-container-id-4 label.sk-toggleable__label .caption {\n",
       "  font-size: 0.6rem;\n",
       "  font-weight: lighter;\n",
       "  color: var(--sklearn-color-text-muted);\n",
       "}\n",
       "\n",
       "#sk-container-id-4 label.sk-toggleable__label-arrow:before {\n",
       "  /* Arrow on the left of the label */\n",
       "  content: \"▸\";\n",
       "  float: left;\n",
       "  margin-right: 0.25em;\n",
       "  color: var(--sklearn-color-icon);\n",
       "}\n",
       "\n",
       "#sk-container-id-4 label.sk-toggleable__label-arrow:hover:before {\n",
       "  color: var(--sklearn-color-text);\n",
       "}\n",
       "\n",
       "/* Toggleable content - dropdown */\n",
       "\n",
       "#sk-container-id-4 div.sk-toggleable__content {\n",
       "  max-height: 0;\n",
       "  max-width: 0;\n",
       "  overflow: hidden;\n",
       "  text-align: left;\n",
       "  /* unfitted */\n",
       "  background-color: var(--sklearn-color-unfitted-level-0);\n",
       "}\n",
       "\n",
       "#sk-container-id-4 div.sk-toggleable__content.fitted {\n",
       "  /* fitted */\n",
       "  background-color: var(--sklearn-color-fitted-level-0);\n",
       "}\n",
       "\n",
       "#sk-container-id-4 div.sk-toggleable__content pre {\n",
       "  margin: 0.2em;\n",
       "  border-radius: 0.25em;\n",
       "  color: var(--sklearn-color-text);\n",
       "  /* unfitted */\n",
       "  background-color: var(--sklearn-color-unfitted-level-0);\n",
       "}\n",
       "\n",
       "#sk-container-id-4 div.sk-toggleable__content.fitted pre {\n",
       "  /* unfitted */\n",
       "  background-color: var(--sklearn-color-fitted-level-0);\n",
       "}\n",
       "\n",
       "#sk-container-id-4 input.sk-toggleable__control:checked~div.sk-toggleable__content {\n",
       "  /* Expand drop-down */\n",
       "  max-height: 200px;\n",
       "  max-width: 100%;\n",
       "  overflow: auto;\n",
       "}\n",
       "\n",
       "#sk-container-id-4 input.sk-toggleable__control:checked~label.sk-toggleable__label-arrow:before {\n",
       "  content: \"▾\";\n",
       "}\n",
       "\n",
       "/* Pipeline/ColumnTransformer-specific style */\n",
       "\n",
       "#sk-container-id-4 div.sk-label input.sk-toggleable__control:checked~label.sk-toggleable__label {\n",
       "  color: var(--sklearn-color-text);\n",
       "  background-color: var(--sklearn-color-unfitted-level-2);\n",
       "}\n",
       "\n",
       "#sk-container-id-4 div.sk-label.fitted input.sk-toggleable__control:checked~label.sk-toggleable__label {\n",
       "  background-color: var(--sklearn-color-fitted-level-2);\n",
       "}\n",
       "\n",
       "/* Estimator-specific style */\n",
       "\n",
       "/* Colorize estimator box */\n",
       "#sk-container-id-4 div.sk-estimator input.sk-toggleable__control:checked~label.sk-toggleable__label {\n",
       "  /* unfitted */\n",
       "  background-color: var(--sklearn-color-unfitted-level-2);\n",
       "}\n",
       "\n",
       "#sk-container-id-4 div.sk-estimator.fitted input.sk-toggleable__control:checked~label.sk-toggleable__label {\n",
       "  /* fitted */\n",
       "  background-color: var(--sklearn-color-fitted-level-2);\n",
       "}\n",
       "\n",
       "#sk-container-id-4 div.sk-label label.sk-toggleable__label,\n",
       "#sk-container-id-4 div.sk-label label {\n",
       "  /* The background is the default theme color */\n",
       "  color: var(--sklearn-color-text-on-default-background);\n",
       "}\n",
       "\n",
       "/* On hover, darken the color of the background */\n",
       "#sk-container-id-4 div.sk-label:hover label.sk-toggleable__label {\n",
       "  color: var(--sklearn-color-text);\n",
       "  background-color: var(--sklearn-color-unfitted-level-2);\n",
       "}\n",
       "\n",
       "/* Label box, darken color on hover, fitted */\n",
       "#sk-container-id-4 div.sk-label.fitted:hover label.sk-toggleable__label.fitted {\n",
       "  color: var(--sklearn-color-text);\n",
       "  background-color: var(--sklearn-color-fitted-level-2);\n",
       "}\n",
       "\n",
       "/* Estimator label */\n",
       "\n",
       "#sk-container-id-4 div.sk-label label {\n",
       "  font-family: monospace;\n",
       "  font-weight: bold;\n",
       "  display: inline-block;\n",
       "  line-height: 1.2em;\n",
       "}\n",
       "\n",
       "#sk-container-id-4 div.sk-label-container {\n",
       "  text-align: center;\n",
       "}\n",
       "\n",
       "/* Estimator-specific */\n",
       "#sk-container-id-4 div.sk-estimator {\n",
       "  font-family: monospace;\n",
       "  border: 1px dotted var(--sklearn-color-border-box);\n",
       "  border-radius: 0.25em;\n",
       "  box-sizing: border-box;\n",
       "  margin-bottom: 0.5em;\n",
       "  /* unfitted */\n",
       "  background-color: var(--sklearn-color-unfitted-level-0);\n",
       "}\n",
       "\n",
       "#sk-container-id-4 div.sk-estimator.fitted {\n",
       "  /* fitted */\n",
       "  background-color: var(--sklearn-color-fitted-level-0);\n",
       "}\n",
       "\n",
       "/* on hover */\n",
       "#sk-container-id-4 div.sk-estimator:hover {\n",
       "  /* unfitted */\n",
       "  background-color: var(--sklearn-color-unfitted-level-2);\n",
       "}\n",
       "\n",
       "#sk-container-id-4 div.sk-estimator.fitted:hover {\n",
       "  /* fitted */\n",
       "  background-color: var(--sklearn-color-fitted-level-2);\n",
       "}\n",
       "\n",
       "/* Specification for estimator info (e.g. \"i\" and \"?\") */\n",
       "\n",
       "/* Common style for \"i\" and \"?\" */\n",
       "\n",
       ".sk-estimator-doc-link,\n",
       "a:link.sk-estimator-doc-link,\n",
       "a:visited.sk-estimator-doc-link {\n",
       "  float: right;\n",
       "  font-size: smaller;\n",
       "  line-height: 1em;\n",
       "  font-family: monospace;\n",
       "  background-color: var(--sklearn-color-background);\n",
       "  border-radius: 1em;\n",
       "  height: 1em;\n",
       "  width: 1em;\n",
       "  text-decoration: none !important;\n",
       "  margin-left: 0.5em;\n",
       "  text-align: center;\n",
       "  /* unfitted */\n",
       "  border: var(--sklearn-color-unfitted-level-1) 1pt solid;\n",
       "  color: var(--sklearn-color-unfitted-level-1);\n",
       "}\n",
       "\n",
       ".sk-estimator-doc-link.fitted,\n",
       "a:link.sk-estimator-doc-link.fitted,\n",
       "a:visited.sk-estimator-doc-link.fitted {\n",
       "  /* fitted */\n",
       "  border: var(--sklearn-color-fitted-level-1) 1pt solid;\n",
       "  color: var(--sklearn-color-fitted-level-1);\n",
       "}\n",
       "\n",
       "/* On hover */\n",
       "div.sk-estimator:hover .sk-estimator-doc-link:hover,\n",
       ".sk-estimator-doc-link:hover,\n",
       "div.sk-label-container:hover .sk-estimator-doc-link:hover,\n",
       ".sk-estimator-doc-link:hover {\n",
       "  /* unfitted */\n",
       "  background-color: var(--sklearn-color-unfitted-level-3);\n",
       "  color: var(--sklearn-color-background);\n",
       "  text-decoration: none;\n",
       "}\n",
       "\n",
       "div.sk-estimator.fitted:hover .sk-estimator-doc-link.fitted:hover,\n",
       ".sk-estimator-doc-link.fitted:hover,\n",
       "div.sk-label-container:hover .sk-estimator-doc-link.fitted:hover,\n",
       ".sk-estimator-doc-link.fitted:hover {\n",
       "  /* fitted */\n",
       "  background-color: var(--sklearn-color-fitted-level-3);\n",
       "  color: var(--sklearn-color-background);\n",
       "  text-decoration: none;\n",
       "}\n",
       "\n",
       "/* Span, style for the box shown on hovering the info icon */\n",
       ".sk-estimator-doc-link span {\n",
       "  display: none;\n",
       "  z-index: 9999;\n",
       "  position: relative;\n",
       "  font-weight: normal;\n",
       "  right: .2ex;\n",
       "  padding: .5ex;\n",
       "  margin: .5ex;\n",
       "  width: min-content;\n",
       "  min-width: 20ex;\n",
       "  max-width: 50ex;\n",
       "  color: var(--sklearn-color-text);\n",
       "  box-shadow: 2pt 2pt 4pt #999;\n",
       "  /* unfitted */\n",
       "  background: var(--sklearn-color-unfitted-level-0);\n",
       "  border: .5pt solid var(--sklearn-color-unfitted-level-3);\n",
       "}\n",
       "\n",
       ".sk-estimator-doc-link.fitted span {\n",
       "  /* fitted */\n",
       "  background: var(--sklearn-color-fitted-level-0);\n",
       "  border: var(--sklearn-color-fitted-level-3);\n",
       "}\n",
       "\n",
       ".sk-estimator-doc-link:hover span {\n",
       "  display: block;\n",
       "}\n",
       "\n",
       "/* \"?\"-specific style due to the `<a>` HTML tag */\n",
       "\n",
       "#sk-container-id-4 a.estimator_doc_link {\n",
       "  float: right;\n",
       "  font-size: 1rem;\n",
       "  line-height: 1em;\n",
       "  font-family: monospace;\n",
       "  background-color: var(--sklearn-color-background);\n",
       "  border-radius: 1rem;\n",
       "  height: 1rem;\n",
       "  width: 1rem;\n",
       "  text-decoration: none;\n",
       "  /* unfitted */\n",
       "  color: var(--sklearn-color-unfitted-level-1);\n",
       "  border: var(--sklearn-color-unfitted-level-1) 1pt solid;\n",
       "}\n",
       "\n",
       "#sk-container-id-4 a.estimator_doc_link.fitted {\n",
       "  /* fitted */\n",
       "  border: var(--sklearn-color-fitted-level-1) 1pt solid;\n",
       "  color: var(--sklearn-color-fitted-level-1);\n",
       "}\n",
       "\n",
       "/* On hover */\n",
       "#sk-container-id-4 a.estimator_doc_link:hover {\n",
       "  /* unfitted */\n",
       "  background-color: var(--sklearn-color-unfitted-level-3);\n",
       "  color: var(--sklearn-color-background);\n",
       "  text-decoration: none;\n",
       "}\n",
       "\n",
       "#sk-container-id-4 a.estimator_doc_link.fitted:hover {\n",
       "  /* fitted */\n",
       "  background-color: var(--sklearn-color-fitted-level-3);\n",
       "}\n",
       "</style><div id=\"sk-container-id-4\" class=\"sk-top-container\"><div class=\"sk-text-repr-fallback\"><pre>RandomForestClassifier(random_state=42)</pre><b>In a Jupyter environment, please rerun this cell to show the HTML representation or trust the notebook. <br />On GitHub, the HTML representation is unable to render, please try loading this page with nbviewer.org.</b></div><div class=\"sk-container\" hidden><div class=\"sk-item\"><div class=\"sk-estimator fitted sk-toggleable\"><input class=\"sk-toggleable__control sk-hidden--visually\" id=\"sk-estimator-id-4\" type=\"checkbox\" checked><label for=\"sk-estimator-id-4\" class=\"sk-toggleable__label fitted sk-toggleable__label-arrow\"><div><div>RandomForestClassifier</div></div><div><a class=\"sk-estimator-doc-link fitted\" rel=\"noreferrer\" target=\"_blank\" href=\"https://scikit-learn.org/1.6/modules/generated/sklearn.ensemble.RandomForestClassifier.html\">?<span>Documentation for RandomForestClassifier</span></a><span class=\"sk-estimator-doc-link fitted\">i<span>Fitted</span></span></div></label><div class=\"sk-toggleable__content fitted\"><pre>RandomForestClassifier(random_state=42)</pre></div> </div></div></div></div>"
      ],
      "text/plain": [
       "RandomForestClassifier(random_state=42)"
      ]
     },
     "execution_count": 156,
     "metadata": {},
     "output_type": "execute_result"
    }
   ],
   "source": [
    "model = RandomForestClassifier(n_estimators=100, random_state=42)\n",
    "model.fit(X_train_scaled, y_train)"
   ]
  },
  {
   "cell_type": "code",
   "execution_count": 157,
   "id": "9230e246-1f60-42fd-a170-4cd6cf2652a9",
   "metadata": {},
   "outputs": [
    {
     "data": {
      "text/plain": [
       "'\\n# 3. How did you select variables to be included in the model?\\n      3.1. Feature Engineering: Create new features like transaction frequency, location consistency, and behavioral metrics.\\n      3.2. Feature Selection Techniques: \\n               3.2.1. Recursive Feature Elimination (RFE)\\n               3.2.2. Mutual Information Gain \\n               3.2.3. SHAP (SHapley Additive exPlanations) values for model interpretability\\n'"
      ]
     },
     "execution_count": 157,
     "metadata": {},
     "output_type": "execute_result"
    }
   ],
   "source": [
    "\"\"\"\n",
    "# 3. How did you select variables to be included in the model?\n",
    "      3.1. Feature Engineering: Create new features like transaction frequency, location consistency, and behavioral metrics.\n",
    "      3.2. Feature Selection Techniques: \n",
    "               3.2.1. Recursive Feature Elimination (RFE)\n",
    "               3.2.2. Mutual Information Gain \n",
    "               3.2.3. SHAP (SHapley Additive exPlanations) values for model interpretability\n",
    "\"\"\""
   ]
  },
  {
   "cell_type": "code",
   "execution_count": 158,
   "id": "31b0ea9a-5441-4a57-b03c-17fb074ffc77",
   "metadata": {},
   "outputs": [
    {
     "data": {
      "text/plain": [
       "'\\n# 3. Variable Selection Criteria\\n      a. Possible Extension of Code:\\n      b. This code helps determine which variables contribute the most to fraud prediction.\\n'"
      ]
     },
     "execution_count": 158,
     "metadata": {},
     "output_type": "execute_result"
    }
   ],
   "source": [
    "\"\"\"\n",
    "# 3. Variable Selection Criteria\n",
    "      a. Possible Extension of Code:\n",
    "      b. This code helps determine which variables contribute the most to fraud prediction.\n",
    "\"\"\""
   ]
  },
  {
   "cell_type": "code",
   "execution_count": 159,
   "id": "0564c681-a1ee-4b1c-9828-214fde636c32",
   "metadata": {},
   "outputs": [
    {
     "name": "stdout",
     "output_type": "stream",
     "text": [
      "amount            0.554603\n",
      "transaction_id    0.445397\n",
      "dtype: float64\n"
     ]
    }
   ],
   "source": [
    "feature_importances = pd.Series(model.feature_importances_, index=X.columns).sort_values(ascending=False)\n",
    "print(feature_importances)"
   ]
  },
  {
   "cell_type": "code",
   "execution_count": 160,
   "id": "5fdf6209-28bc-4691-970c-269dd24a1129",
   "metadata": {},
   "outputs": [
    {
     "data": {
      "text/plain": [
       "'\\n# 4. Demonstrate the performance of the model by using the best set of tools.\\n        4.1. Metrics Used:\\n               4.1.1. Accuracy: Overall correctness of predictions.\\n               4.1.2. Precision & Recall: Trade-off between false positives and false negatives.\\n               4.1.3. F1-Score: Balance between precision and recall.\\n               4.1.4. ROC-AUC Curve: Measures true positive rate vs. false positive rate.\\n        4.2. Tools Used: Python libraries (Scikit-learn, TensorFlow, XGBoost, SHAP, Matplotlib for visualizations).\\n        4.3. Confusion Matrix: Evaluates classification performance.\\n'"
      ]
     },
     "execution_count": 160,
     "metadata": {},
     "output_type": "execute_result"
    }
   ],
   "source": [
    "\"\"\"\n",
    "# 4. Demonstrate the performance of the model by using the best set of tools.\n",
    "        4.1. Metrics Used:\n",
    "               4.1.1. Accuracy: Overall correctness of predictions.\n",
    "               4.1.2. Precision & Recall: Trade-off between false positives and false negatives.\n",
    "               4.1.3. F1-Score: Balance between precision and recall.\n",
    "               4.1.4. ROC-AUC Curve: Measures true positive rate vs. false positive rate.\n",
    "        4.2. Tools Used: Python libraries (Scikit-learn, TensorFlow, XGBoost, SHAP, Matplotlib for visualizations).\n",
    "        4.3. Confusion Matrix: Evaluates classification performance.\n",
    "\"\"\""
   ]
  },
  {
   "cell_type": "code",
   "execution_count": 161,
   "id": "4cbff76c-a71e-4e78-b6be-90bfc0bfe4e8",
   "metadata": {},
   "outputs": [
    {
     "data": {
      "text/plain": [
       "'\\n# 4.  Model Performance Evaluation\\n      a. Possible Extension of Code:\\n      b. These are standard evaluation metrics for fraud detection models.\\n'"
      ]
     },
     "execution_count": 161,
     "metadata": {},
     "output_type": "execute_result"
    }
   ],
   "source": [
    "\"\"\"\n",
    "# 4.  Model Performance Evaluation\n",
    "      a. Possible Extension of Code:\n",
    "      b. These are standard evaluation metrics for fraud detection models.\n",
    "\"\"\""
   ]
  },
  {
   "cell_type": "code",
   "execution_count": 162,
   "id": "a2881918-4e34-487f-b03f-65156a62693d",
   "metadata": {},
   "outputs": [
    {
     "name": "stdout",
     "output_type": "stream",
     "text": [
      "Confusion Matrix:\n",
      " [[1 0]\n",
      " [1 0]]\n",
      "Classification Report:\n",
      "               precision    recall  f1-score   support\n",
      "\n",
      "           0       0.50      1.00      0.67         1\n",
      "           1       1.00      0.00      0.00         1\n",
      "\n",
      "    accuracy                           0.50         2\n",
      "   macro avg       0.75      0.50      0.33         2\n",
      "weighted avg       0.75      0.50      0.33         2\n",
      "\n",
      "Accuracy Score: 0.5\n"
     ]
    }
   ],
   "source": [
    "from sklearn.metrics import classification_report, confusion_matrix, accuracy_score\n",
    "import numpy as np\n",
    "\n",
    "# Ensure X_test is a NumPy array (to avoid feature name mismatch warning)\n",
    "X_test_array = np.array(X_test)\n",
    "\n",
    "# Make predictions\n",
    "y_pred = model.predict(X_test_array)\n",
    "print(\"Confusion Matrix:\\n\", confusion_matrix(y_test, y_pred))\n",
    "print(\"Classification Report:\\n\", classification_report(y_test, y_pred, zero_division=1))  # Fix undefined precision issue\n",
    "print(\"Accuracy Score:\", accuracy_score(y_test, y_pred))"
   ]
  },
  {
   "cell_type": "code",
   "execution_count": 163,
   "id": "d34471b5-badf-47dd-83ce-1655ccf1bdf9",
   "metadata": {},
   "outputs": [
    {
     "data": {
      "text/plain": [
       "'\\n# 5. What are the key factors that predict fraudulent customers?\\n         5.1. Unusual Transaction Amount: Large or irregular transactions.\\n         5.2. High Transaction Frequency: Rapid consecutive transactions.\\n         5.3. Geographical Inconsistency: Transactions from different locations in short time frames.\\n         5.4. Device/IP Address Changes: Multiple logins from different IPs/devices.\\n         5.5. Merchant Type: Transactions with high-risk merchants.\\n         5.6. Time-based Patterns: Transactions occurring at odd hours.\\n'"
      ]
     },
     "execution_count": 163,
     "metadata": {},
     "output_type": "execute_result"
    }
   ],
   "source": [
    "\"\"\"\n",
    "# 5. What are the key factors that predict fraudulent customers?\n",
    "         5.1. Unusual Transaction Amount: Large or irregular transactions.\n",
    "         5.2. High Transaction Frequency: Rapid consecutive transactions.\n",
    "         5.3. Geographical Inconsistency: Transactions from different locations in short time frames.\n",
    "         5.4. Device/IP Address Changes: Multiple logins from different IPs/devices.\n",
    "         5.5. Merchant Type: Transactions with high-risk merchants.\n",
    "         5.6. Time-based Patterns: Transactions occurring at odd hours.\n",
    "\"\"\""
   ]
  },
  {
   "cell_type": "code",
   "execution_count": 164,
   "id": "85829729-3951-4681-9b12-b0d913e1b7b6",
   "metadata": {},
   "outputs": [
    {
     "data": {
      "text/plain": [
       "'\\n# 5. Key Fraud Indicators\\n      a. Possible Extension of Code:\\n      b. This provides the most important factors (features) contributing to fraud detection.\\n'"
      ]
     },
     "execution_count": 164,
     "metadata": {},
     "output_type": "execute_result"
    }
   ],
   "source": [
    "\"\"\"\n",
    "# 5. Key Fraud Indicators\n",
    "      a. Possible Extension of Code:\n",
    "      b. This provides the most important factors (features) contributing to fraud detection.\n",
    "\"\"\""
   ]
  },
  {
   "cell_type": "code",
   "execution_count": 165,
   "id": "085d4ff2-c018-446a-8a2d-ff8597035a2d",
   "metadata": {},
   "outputs": [
    {
     "name": "stdout",
     "output_type": "stream",
     "text": [
      "Top Features Influencing Fraud Detection:\n",
      " amount            0.554603\n",
      "transaction_id    0.445397\n",
      "dtype: float64\n"
     ]
    },
    {
     "data": {
      "image/png": "[encoded data removed]",
      "text/plain": [
       "<Figure size 1000x600 with 1 Axes>"
      ]
     },
     "metadata": {},
     "output_type": "display_data"
    }
   ],
   "source": [
    "feature_importances = pd.Series(model.feature_importances_, index=X.columns).sort_values(ascending=False)\n",
    "print(\"Top Features Influencing Fraud Detection:\\n\", feature_importances.head(10))\n",
    "\n",
    "# Visualizing Feature Importance\n",
    "plt.figure(figsize=(10, 6))\n",
    "sns.barplot(x=feature_importances[:10], y=feature_importances.index[:10], hue=feature_importances.index[:10], palette=\"viridis\", legend=False)\n",
    "plt.xlabel(\"Feature Importance Score\")\n",
    "plt.ylabel(\"Features\")\n",
    "plt.title(\"Top 10 Features Influencing Fraud Detection\")\n",
    "plt.show()"
   ]
  },
  {
   "cell_type": "code",
   "execution_count": 166,
   "id": "f273770f-5a41-48fb-8fea-1a2ca6bf60cb",
   "metadata": {},
   "outputs": [
    {
     "data": {
      "image/png": "[encoded data removed]",
      "text/plain": [
       "<Figure size 1000x600 with 2 Axes>"
      ]
     },
     "metadata": {},
     "output_type": "display_data"
    }
   ],
   "source": [
    "plt.figure(figsize=(10, 6))\n",
    "sns.heatmap(filtered_data.corr(), annot=True, cmap='coolwarm')\n",
    "plt.title(\"Feature Correlation Matrix\")\n",
    "plt.show()"
   ]
  },
  {
   "cell_type": "code",
   "execution_count": 167,
   "id": "27bcde2f-b788-4a3d-81b2-679e9ccf48dc",
   "metadata": {},
   "outputs": [
    {
     "data": {
      "image/png": "[encoded data removed]",
      "text/plain": [
       "<Figure size 640x480 with 1 Axes>"
      ]
     },
     "metadata": {},
     "output_type": "display_data"
    }
   ],
   "source": [
    "feature_importance = pd.Series(model.feature_importances_, index=X.columns)\n",
    "feature_importance.sort_values(ascending=False).plot(kind='bar', title='Feature Importance')\n",
    "plt.show()"
   ]
  },
  {
   "cell_type": "code",
   "execution_count": 168,
   "id": "1288a084-9748-4df0-9a27-159b6a3e8cd1",
   "metadata": {},
   "outputs": [
    {
     "data": {
      "text/plain": [
       "'\\n# 6. Do these factors make sense? If yes, how? If not, how not?\\n    - Yes, if we think in logically:\\n        1. Fraudsters often exploit loopholes by making multiple small transactions before a large one.\\n        2. Location inconsistencies and unusual spending behaviors are strong indicators of fraud.\\n        3. High-risk merchant categories are frequently targeted for fraudulent transactions.\\n    - By using data-driven analysis validates these indicators using statistical correlations and machine learning models.\\n'"
      ]
     },
     "execution_count": 168,
     "metadata": {},
     "output_type": "execute_result"
    }
   ],
   "source": [
    "\n",
    "\"\"\"\n",
    "# 6. Do these factors make sense? If yes, how? If not, how not?\n",
    "    - Yes, if we think in logically:\n",
    "        1. Fraudsters often exploit loopholes by making multiple small transactions before a large one.\n",
    "        2. Location inconsistencies and unusual spending behaviors are strong indicators of fraud.\n",
    "        3. High-risk merchant categories are frequently targeted for fraudulent transactions.\n",
    "    - By using data-driven analysis validates these indicators using statistical correlations and machine learning models.\n",
    "\"\"\""
   ]
  },
  {
   "cell_type": "code",
   "execution_count": 169,
   "id": "50ae7cc6-f276-4595-88a6-3799af275e32",
   "metadata": {},
   "outputs": [
    {
     "data": {
      "text/plain": [
       "'\\n# 7. What kind of prevention should be adopted while the company updates its infrastructure?\\n          7.1. Two-Factor Authentication (2FA): Adds an extra security layer.\\n          7.2. Machine Learning Real-time Monitoring: Detects anomalies in real-time.\\n          7.3. Behavioral Biometrics: Tracks keystrokes, mouse movements, and login patterns.\\n          7.4. Encryption & Secure Communication Protocols: Protects sensitive customer data.\\n          7.5. Regular Penetration Testing: Identifies vulnerabilities in infrastructure.\\n          7.6. Access Control & Role-based Permissions: Restricts system access based on user roles.\\n'"
      ]
     },
     "execution_count": 169,
     "metadata": {},
     "output_type": "execute_result"
    }
   ],
   "source": [
    "\n",
    "\"\"\"\n",
    "# 7. What kind of prevention should be adopted while the company updates its infrastructure?\n",
    "          7.1. Two-Factor Authentication (2FA): Adds an extra security layer.\n",
    "          7.2. Machine Learning Real-time Monitoring: Detects anomalies in real-time.\n",
    "          7.3. Behavioral Biometrics: Tracks keystrokes, mouse movements, and login patterns.\n",
    "          7.4. Encryption & Secure Communication Protocols: Protects sensitive customer data.\n",
    "          7.5. Regular Penetration Testing: Identifies vulnerabilities in infrastructure.\n",
    "          7.6. Access Control & Role-based Permissions: Restricts system access based on user roles.\n",
    "\"\"\""
   ]
  },
  {
   "cell_type": "code",
   "execution_count": 170,
   "id": "ec1c3858-c3d4-4c68-90e6-047d9f147fcd",
   "metadata": {},
   "outputs": [
    {
     "data": {
      "text/plain": [
       "'\\n# 8. Assuming these actions have been implemented, how would you determine if they work?\\n         8.1. Reduction in Fraudulent Transactions: Compare before and after implementation.\\n         8.2. False Positive & False Negative Rates: Ensure fraud detection accuracy.\\n         8.3. Customer Complaints & Chargebacks: Monitor reductions in fraud-related complaints.\\n         8.4. A/B Testing: Compare new fraud detection methods with previous techniques.\\n         8.5. Regular Model Retraining: Ensure model adapts to evolving fraud patterns.\\n'"
      ]
     },
     "execution_count": 170,
     "metadata": {},
     "output_type": "execute_result"
    }
   ],
   "source": [
    "\n",
    "\"\"\"\n",
    "# 8. Assuming these actions have been implemented, how would you determine if they work?\n",
    "         8.1. Reduction in Fraudulent Transactions: Compare before and after implementation.\n",
    "         8.2. False Positive & False Negative Rates: Ensure fraud detection accuracy.\n",
    "         8.3. Customer Complaints & Chargebacks: Monitor reductions in fraud-related complaints.\n",
    "         8.4. A/B Testing: Compare new fraud detection methods with previous techniques.\n",
    "         8.5. Regular Model Retraining: Ensure model adapts to evolving fraud patterns.\n",
    "\"\"\""
   ]
  }
 ],
 "metadata": {
  "kernelspec": {
   "display_name": "Python 3 (ipykernel)",
   "language": "python",
   "name": "python3"
  },
  "language_info": {
   "codemirror_mode": {
    "name": "ipython",
    "version": 3
   },
   "file_extension": ".py",
   "mimetype": "text/x-python",
   "name": "python",
   "nbconvert_exporter": "python",
   "pygments_lexer": "ipython3",
   "version": "3.12.6"
  }
 },
 "nbformat": 4,
 "nbformat_minor": 5
}
